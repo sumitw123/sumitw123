{
 "cells": [
  {
   "cell_type": "code",
   "execution_count": null,
   "id": "d93937e2",
   "metadata": {},
   "outputs": [],
   "source": [
    "1. \n",
    "    values : 'hello',-87.6,6\n",
    "    expression : *,/,-,+\n"
   ]
  },
  {
   "cell_type": "code",
   "execution_count": null,
   "id": "e5d2df7c",
   "metadata": {},
   "outputs": [],
   "source": [
    "2.\n",
    "    string   : A string is collection of charachter in single or double qoute.\n",
    "    variable : variable is name which store any  information."
   ]
  },
  {
   "cell_type": "code",
   "execution_count": null,
   "id": "3518ec70",
   "metadata": {},
   "outputs": [],
   "source": [
    "3.\n",
    "    i)   Numeric data type : int , float , comples\n",
    "    ii)  Sequance data type: list, tupple\n",
    "    iii) set data type     : set , Frozen set"
   ]
  },
  {
   "cell_type": "markdown",
   "id": "7d61b698",
   "metadata": {},
   "source": [
    "4.\n",
    "   An expression is a construct made up of variables, operators, and method invocations, which are constructed according to the    syntax of the language, that evaluates to a single value."
   ]
  },
  {
   "cell_type": "code",
   "execution_count": null,
   "id": "795525b8",
   "metadata": {},
   "outputs": [],
   "source": [
    "5.\n",
    "    an “expression” is a combination of values and functions that are combined and interpreted by the compiler to create a new value, \n",
    "    as opposed to a “statement” which is just a standalone unit of execution and doesn't return anything."
   ]
  },
  {
   "cell_type": "code",
   "execution_count": 6,
   "id": "0c501556",
   "metadata": {},
   "outputs": [
    {
     "name": "stdout",
     "output_type": "stream",
     "text": [
      "22\n"
     ]
    }
   ],
   "source": [
    "# 6\n",
    "bacon = 22\n",
    "bacon + 1\n",
    "print(bacon)"
   ]
  },
  {
   "cell_type": "code",
   "execution_count": 7,
   "id": "9b24f85c",
   "metadata": {},
   "outputs": [
    {
     "data": {
      "text/plain": [
       "'spamspamspam'"
      ]
     },
     "execution_count": 7,
     "metadata": {},
     "output_type": "execute_result"
    }
   ],
   "source": [
    "# 7\n",
    "'spam'+'spamspam'\n",
    "'spam'*3"
   ]
  },
  {
   "cell_type": "code",
   "execution_count": null,
   "id": "9257ebfd",
   "metadata": {},
   "outputs": [],
   "source": [
    "# 8\n",
    " As per of the variable,variable can not start with integer,special character etc. so that egg is variable but 100 not variable."
   ]
  },
  {
   "cell_type": "code",
   "execution_count": null,
   "id": "b07954ad",
   "metadata": {},
   "outputs": [],
   "source": [
    "# 9\n",
    "int(),float(),string()"
   ]
  },
  {
   "cell_type": "code",
   "execution_count": 13,
   "id": "4a8a5125",
   "metadata": {},
   "outputs": [
    {
     "data": {
      "text/plain": [
       "'I have eaten  99  burritos.'"
      ]
     },
     "execution_count": 13,
     "metadata": {},
     "output_type": "execute_result"
    }
   ],
   "source": [
    "#10\n",
    "'I have eaten' + (\"  99  \") + 'burritos.'"
   ]
  },
  {
   "cell_type": "code",
   "execution_count": null,
   "id": "7aa8b26d",
   "metadata": {},
   "outputs": [],
   "source": []
  }
 ],
 "metadata": {
  "kernelspec": {
   "display_name": "Python 3 (ipykernel)",
   "language": "python",
   "name": "python3"
  },
  "language_info": {
   "codemirror_mode": {
    "name": "ipython",
    "version": 3
   },
   "file_extension": ".py",
   "mimetype": "text/x-python",
   "name": "python",
   "nbconvert_exporter": "python",
   "pygments_lexer": "ipython3",
   "version": "3.9.7"
  }
 },
 "nbformat": 4,
 "nbformat_minor": 5
}
